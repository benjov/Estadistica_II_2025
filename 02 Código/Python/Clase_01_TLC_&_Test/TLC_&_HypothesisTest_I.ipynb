{
 "cells": [
  {
   "cell_type": "markdown",
   "metadata": {},
   "source": [
    "# Clase: Teorema del límite central e introducción a las pruebas de hipótesis"
   ]
  },
  {
   "cell_type": "code",
   "execution_count": 1,
   "metadata": {},
   "outputs": [],
   "source": [
    "# Dependencies and Setup\n",
    "import pandas as pd\n",
    "import numpy as np\n",
    "import matplotlib.pyplot as plt\n",
    "from scipy.stats import linregress\n",
    "import scipy.stats as stats\n",
    "import seaborn as sns\n",
    "from scipy.stats import norm\n",
    "from scipy.stats import t\n",
    "from scipy import stats\n",
    "\n",
    "# Omiting WARNINGS\n",
    "import warnings\n",
    "warnings.filterwarnings('ignore')"
   ]
  },
  {
   "cell_type": "code",
   "execution_count": null,
   "metadata": {},
   "outputs": [],
   "source": [
    "#!pip install pandas"
   ]
  },
  {
   "cell_type": "markdown",
   "metadata": {},
   "source": [
    "## 1. Importación de datos:\n",
    "* Source: A. Bhatnagar and V.K. Mehta (2007). \"Efficacy of Deltamethrin and Cyfluthrin Impregnated Cloth Over Uniform Against Mosquito Bites,\"Medical Journal Armed Forces India, Vol. 63, pp. 120-122.\n",
    "\n",
    "* Description: Comparison of 5 pretreated patches to reduce mosquito human contact. \n",
    "\n",
    "* 30 replicates per treatment.\n",
    "\n",
    "* Treatments:\n",
    "\n",
    "1=Odomos, 2=Deltamethrin, 3=Cyfluthrin, 4=D+O, 5=C+O\n",
    "\n",
    "* Variables: treatment mosq - The number of mosquitoes caught in one hour (Per Man-Hour Mosquito Catch)"
   ]
  },
  {
   "cell_type": "code",
   "execution_count": 2,
   "metadata": {},
   "outputs": [
    {
     "data": {
      "text/html": [
       "<div>\n",
       "<style scoped>\n",
       "    .dataframe tbody tr th:only-of-type {\n",
       "        vertical-align: middle;\n",
       "    }\n",
       "\n",
       "    .dataframe tbody tr th {\n",
       "        vertical-align: top;\n",
       "    }\n",
       "\n",
       "    .dataframe thead th {\n",
       "        text-align: right;\n",
       "    }\n",
       "</style>\n",
       "<table border=\"1\" class=\"dataframe\">\n",
       "  <thead>\n",
       "    <tr style=\"text-align: right;\">\n",
       "      <th></th>\n",
       "      <th>treatment</th>\n",
       "      <th>mosq</th>\n",
       "    </tr>\n",
       "  </thead>\n",
       "  <tbody>\n",
       "    <tr>\n",
       "      <th>0</th>\n",
       "      <td>1</td>\n",
       "      <td>4.50</td>\n",
       "    </tr>\n",
       "    <tr>\n",
       "      <th>1</th>\n",
       "      <td>1</td>\n",
       "      <td>10.04</td>\n",
       "    </tr>\n",
       "    <tr>\n",
       "      <th>2</th>\n",
       "      <td>1</td>\n",
       "      <td>13.05</td>\n",
       "    </tr>\n",
       "    <tr>\n",
       "      <th>3</th>\n",
       "      <td>1</td>\n",
       "      <td>0.26</td>\n",
       "    </tr>\n",
       "    <tr>\n",
       "      <th>4</th>\n",
       "      <td>1</td>\n",
       "      <td>10.61</td>\n",
       "    </tr>\n",
       "  </tbody>\n",
       "</table>\n",
       "</div>"
      ],
      "text/plain": [
       "   treatment   mosq\n",
       "0          1   4.50\n",
       "1          1  10.04\n",
       "2          1  13.05\n",
       "3          1   0.26\n",
       "4          1  10.61"
      ]
     },
     "execution_count": 2,
     "metadata": {},
     "output_type": "execute_result"
    }
   ],
   "source": [
    "# Importamos datos:\n",
    "df = pd.read_csv(\"mosquito.csv\")\n",
    "\n",
    "#df = pd.read_csv(\"../../Datos/mosquito.csv\")\n",
    "\n",
    "df.head()"
   ]
  },
  {
   "cell_type": "markdown",
   "metadata": {},
   "source": [
    "## 2. Graficamos datos"
   ]
  },
  {
   "cell_type": "code",
   "execution_count": 3,
   "metadata": {},
   "outputs": [
    {
     "data": {
      "text/plain": [
       "<matplotlib.axes._subplots.AxesSubplot at 0x7fb8c61a1e50>"
      ]
     },
     "execution_count": 3,
     "metadata": {},
     "output_type": "execute_result"
    },
    {
     "data": {
      "image/png": "[encoded data removed]",
      "text/plain": [
       "<Figure size 432x288 with 1 Axes>"
      ]
     },
     "metadata": {
      "needs_background": "light"
     },
     "output_type": "display_data"
    }
   ],
   "source": [
    "# Gráfica simple Histograma - K-density\n",
    "X = df['mosq']\n",
    "sns.distplot(X, hist = True, kde = True,\n",
    "             bins = 5, color = 'red',\n",
    "             hist_kws={'edgecolor':'darkred'},\n",
    "             kde_kws={'linewidth': 3})"
   ]
  },
  {
   "cell_type": "code",
   "execution_count": 4,
   "metadata": {},
   "outputs": [
    {
     "data": {
      "image/png": "[encoded data removed]",
      "text/plain": [
       "<Figure size 432x288 with 1 Axes>"
      ]
     },
     "metadata": {
      "needs_background": "light"
     },
     "output_type": "display_data"
    }
   ],
   "source": [
    "# Gráfica con más adecuaciones: títulos de ejes y de gráfica\n",
    "X = df['mosq']\n",
    "#\n",
    "fig, ax = plt.subplots()\n",
    "fig = sns.distplot(X, hist = True, kde = True,\n",
    "             bins=8, color = 'blue',\n",
    "             hist_kws={'edgecolor':'darkblue'},\n",
    "             kde_kws={'linewidth': 3})\n",
    "ax.set_xlabel('Mosquitos capturados')\n",
    "ax.set_ylabel('Frequency')\n",
    "ax.set_title('Histograma mosquitos capturados')\n",
    "plt.show()"
   ]
  },
  {
   "cell_type": "code",
   "execution_count": 5,
   "metadata": {},
   "outputs": [
    {
     "data": {
      "image/png": "[encoded data removed]",
      "text/plain": [
       "<Figure size 432x288 with 1 Axes>"
      ]
     },
     "metadata": {
      "needs_background": "light"
     },
     "output_type": "display_data"
    }
   ],
   "source": [
    "# Gráfica con más adecuaciones\n",
    "X = df['mosq']\n",
    "#\n",
    "fig, ax = plt.subplots()\n",
    "fig = sns.distplot(X, hist = True, kde = True,\n",
    "             bins=8, color = 'blue',\n",
    "             hist_kws={'edgecolor':'darkblue'},\n",
    "             kde_kws={'linewidth': 3})\n",
    "ax.set_xlabel('Mosquitos capturados')\n",
    "ax.set_ylabel('Frequency')\n",
    "ax.set_title('Histograma mosquitos capturados')\n",
    "plt.axvline(X.mean(), color = 'green', linestyle = 'dashed', linewidth = 2) # agregamos línea vertical\n",
    "min_ylim, max_ylim = plt.ylim() # Extraemos límites del eje Y\n",
    "plt.text(X.mean()*1.1, max_ylim*0.9, 'Mean: {:.2f}'.format(X.mean())) # Colocamos texto especificando coordenadas\n",
    "plt.text(15, 0.08, 'Ejemplo')\n",
    "plt.show()"
   ]
  },
  {
   "cell_type": "markdown",
   "metadata": {},
   "source": [
    "# H1\n",
    "## H2\n",
    "### H3\n",
    "\n",
    "Texto\n",
    "\n",
    "$\\theta$\n",
    "\n",
    "$X_i$\n",
    "\n",
    "$\\frac{y_i}{ a^5 } = F_{random}$"
   ]
  },
  {
   "cell_type": "markdown",
   "metadata": {},
   "source": [
    "## 3. El Teorema del Límite Central"
   ]
  },
  {
   "cell_type": "markdown",
   "metadata": {},
   "source": [
    "**TEO**. Sea una muestra aleatoria $\\{ W_1, W_2, \\ldots, W_n \\}$. Supongamos que la pdf asociada a cada $W_i$ tiene una media $\\mu$ y una varianza $\\sigma^2$. Para cualesquiera valores $a$ y $b$:\n",
    "    \\begin{equation*}\n",
    "        \\lim_{n \\rightarrow \\infty} P \\left( a \\leq \\frac{W_1 + W_2 + \\ldots + W_n - n \\mu}{\\sqrt{n} \\sigma} \\leq b \\right) = \\frac{1}{\\sqrt{2 \\pi}} \\int_a^b e^{- \\frac{z^2}{2}} dz\n",
    "    \\end{equation*}\n",
    "\n",
    "Del teorema anterior podemos mostrar los siguientes resultados. Partamos de la primer parte de la ecuación del teorema:\n",
    "\\begin{eqnarray*}\n",
    "    P \\left( a \\leq \\frac{W_1 + \\ldots + W_n - n \\mu}{\\sqrt{n} \\sigma} \\leq b \\right) & = & P \\left( a \\leq \\frac{\\frac{W_1 + \\ldots + W_n}{n} - \\mu}{\\frac{\\sigma}{\\sqrt{n}}} \\leq b \\right) \\\\\n",
    "    & = & P \\left( a \\leq \\frac{\\overline{W} - \\mu}{\\frac{\\sigma}{\\sqrt{n}}} \\leq b \\right)\n",
    "\\end{eqnarray*}\n",
    "\n",
    "Por lo tanto, de acuerdo con el Teorema del Límite Central, tomanndo el límite podemos afirmar que para cualquier muestra aleatoria de una pdf, cuando $n$ tiende a infinito, lo siguiente será cierto:\n",
    "\\begin{equation*}\n",
    "    \\lim_{n \\rightarrow \\infty} P \\left( a \\leq \\frac{\\overline{W} - \\mu}{\\frac{\\sigma}{\\sqrt{n}}} \\leq b \\right) = \\frac{1}{\\sqrt{2 \\pi}} \\int_a^b e^{- \\frac{z^2}{2}} dz\n",
    "\\end{equation*}\n"
   ]
  },
  {
   "cell_type": "code",
   "execution_count": 6,
   "metadata": {},
   "outputs": [
    {
     "data": {
      "text/plain": [
       "(7.153333333333333, 3.3566443507674664)"
      ]
     },
     "execution_count": 6,
     "metadata": {},
     "output_type": "execute_result"
    }
   ],
   "source": [
    "# Media y Desviación Estándar de la población:\n",
    "Mu = df['mosq'].mean()\n",
    "Sigma = df['mosq'].std()\n",
    "\n",
    "# Imprimimos el resultado de la Media y Desviación Estándar\n",
    "Mu, Sigma"
   ]
  },
  {
   "cell_type": "code",
   "execution_count": 7,
   "metadata": {},
   "outputs": [
    {
     "data": {
      "text/plain": [
       "13      9.25\n",
       "88      7.02\n",
       "61     15.44\n",
       "97      9.29\n",
       "146     0.90\n",
       "Name: mosq, dtype: float64"
      ]
     },
     "execution_count": 7,
     "metadata": {},
     "output_type": "execute_result"
    }
   ],
   "source": [
    "# Muestreo:\n",
    "df['mosq'].sample(n = 5, replace = True)"
   ]
  },
  {
   "cell_type": "code",
   "execution_count": 8,
   "metadata": {},
   "outputs": [
    {
     "data": {
      "text/plain": [
       "7.596000000000001"
      ]
     },
     "execution_count": 8,
     "metadata": {},
     "output_type": "execute_result"
    }
   ],
   "source": [
    "# Media de la muestra\n",
    "df['mosq'].sample(n = 5, replace = True).mean()"
   ]
  },
  {
   "cell_type": "code",
   "execution_count": 9,
   "metadata": {},
   "outputs": [
    {
     "data": {
      "text/plain": [
       "1.0769614489536634"
      ]
     },
     "execution_count": 9,
     "metadata": {},
     "output_type": "execute_result"
    }
   ],
   "source": [
    "# Tranformación Z (asumiendo que la media y desviación calculas son las poblacionales)\n",
    "(df['mosq'].sample(n = 5, replace = True).mean() - Mu)/(Sigma/np.sqrt(5))"
   ]
  },
  {
   "cell_type": "code",
   "execution_count": 10,
   "metadata": {},
   "outputs": [
    {
     "name": "stdout",
     "output_type": "stream",
     "text": [
      "Esta es la iteración: 1\n",
      "Esta es la iteración: 2\n",
      "Esta es la iteración: 3\n",
      "Esta es la iteración: 4\n"
     ]
    }
   ],
   "source": [
    "# Haciendo un loop con un FOR:\n",
    "for i in range(1, 5):\n",
    "    print(f'Esta es la iteración: {i}')"
   ]
  },
  {
   "cell_type": "code",
   "execution_count": 11,
   "metadata": {},
   "outputs": [
    {
     "name": "stdout",
     "output_type": "stream",
     "text": [
      "Esta es la iteración: Elemento 1\n",
      "Esta es la iteración: Elemento 2\n",
      "Esta es la iteración: Elemento 3\n",
      "Esta es la iteración: Elemento 4\n"
     ]
    }
   ],
   "source": [
    "# \n",
    "Arreglo = ['Elemento 1', 'Elemento 2', 'Elemento 3', 'Elemento 4']\n",
    "\n",
    "for i in Arreglo:\n",
    "    print(f'Esta es la iteración: {i}')"
   ]
  },
  {
   "cell_type": "code",
   "execution_count": 12,
   "metadata": {},
   "outputs": [],
   "source": [
    "# Sistematizamos MUESTREO\n",
    "# Arreglos para ir guardando las medias muestrales de K muestras\n",
    "array1 = []\n",
    "array2 = []\n",
    "array3 = []\n",
    "array4 = []\n",
    "\n",
    "# El muestreo será repetido...\n",
    "K = 300\n",
    "\n",
    "# LOOP para hacer K muestreos de diferentes tamaños de muestra:\n",
    "n1 = 10\n",
    "n2 = 30\n",
    "n3 = 60\n",
    "n4 = 1000\n",
    "\n",
    "# Hacemos \n",
    "for i in range(1, K):\n",
    "    array1.append((df['mosq'].sample(n = n1, replace = True).mean() - Mu)/(Sigma/np.sqrt(n1)))\n",
    "    array2.append((df['mosq'].sample(n = n2, replace = True).mean() - Mu)/(Sigma/np.sqrt(n2)))\n",
    "    array3.append((df['mosq'].sample(n = n3, replace = True).mean() - Mu)/(Sigma/np.sqrt(n3)))\n",
    "    array4.append((df['mosq'].sample(n = n4, replace = True).mean() - Mu)/(Sigma/np.sqrt(n4)))"
   ]
  },
  {
   "cell_type": "code",
   "execution_count": null,
   "metadata": {},
   "outputs": [],
   "source": [
    "#array4"
   ]
  },
  {
   "cell_type": "markdown",
   "metadata": {},
   "source": [
    "## 4. Grafiquemos los resultados"
   ]
  },
  {
   "cell_type": "code",
   "execution_count": 17,
   "metadata": {},
   "outputs": [
    {
     "data": {
      "image/png": "[encoded data removed]",
      "text/plain": [
       "<Figure size 432x288 with 1 Axes>"
      ]
     },
     "metadata": {
      "needs_background": "light"
     },
     "output_type": "display_data"
    }
   ],
   "source": [
    "# Caso n1\n",
    "fig, ax = plt.subplots()\n",
    "fig = sns.distplot(array1, hist = True, kde = True,\n",
    "             bins = 9, color = 'y',\n",
    "             hist_kws={'edgecolor':'black'},\n",
    "             kde_kws={'linewidth': 4})\n",
    "ax.set_xlabel('Z')\n",
    "ax.set_ylabel('Frequency')\n",
    "ax.set_title('Sample size = n1')\n",
    "plt.axvline(np.mean(array1), color = 'k', linestyle = 'dashed', linewidth = 1)\n",
    "min_ylim, max_ylim = plt.ylim()\n",
    "plt.text(np.mean(array1)*1.1, max_ylim*0.9, 'Mean: {:.2f}'.format(np.mean(array1)))\n",
    "plt.show()"
   ]
  },
  {
   "cell_type": "code",
   "execution_count": 18,
   "metadata": {},
   "outputs": [
    {
     "data": {
      "image/png": "[encoded data removed]",
      "text/plain": [
       "<Figure size 432x288 with 1 Axes>"
      ]
     },
     "metadata": {
      "needs_background": "light"
     },
     "output_type": "display_data"
    }
   ],
   "source": [
    "# Caso n2\n",
    "fig, ax = plt.subplots()\n",
    "fig = sns.distplot(array2, hist=True, kde=True,\n",
    "             bins = 9, color = 'm',\n",
    "             hist_kws={'edgecolor':'black'},\n",
    "             kde_kws={'linewidth': 4})\n",
    "ax.set_xlabel('Z')\n",
    "ax.set_ylabel('Frequency')\n",
    "ax.set_title('Sample size = n2')\n",
    "plt.axvline(np.mean(array2), color = 'k', linestyle = 'dashed', linewidth = 1)\n",
    "min_ylim, max_ylim = plt.ylim()\n",
    "plt.text(np.mean(array2)*1.1, max_ylim*0.9, 'Mean: {:.2f}'.format(np.mean(array2)))\n",
    "plt.show()"
   ]
  },
  {
   "cell_type": "code",
   "execution_count": 19,
   "metadata": {},
   "outputs": [
    {
     "data": {
      "image/png": "[encoded data removed]",
      "text/plain": [
       "<Figure size 432x288 with 1 Axes>"
      ]
     },
     "metadata": {
      "needs_background": "light"
     },
     "output_type": "display_data"
    }
   ],
   "source": [
    "# Caso n3\n",
    "fig, ax = plt.subplots()\n",
    "fig = sns.distplot(array3, hist = True, kde = True,\n",
    "             bins = 9, color = 'g',\n",
    "             hist_kws={'edgecolor':'black'},\n",
    "             kde_kws={'linewidth': 4})\n",
    "ax.set_xlabel('Z')\n",
    "ax.set_ylabel('Frequency')\n",
    "ax.set_title('Sample size = n3')\n",
    "plt.axvline(np.mean(array3), color = 'k', linestyle = 'dashed', linewidth = 1)\n",
    "min_ylim, max_ylim = plt.ylim()\n",
    "plt.text(np.mean(array3)*1.1, max_ylim*0.9, 'Mean: {:.2f}'.format(np.mean(array3)))\n",
    "plt.show()"
   ]
  },
  {
   "cell_type": "code",
   "execution_count": 20,
   "metadata": {},
   "outputs": [
    {
     "data": {
      "image/png": "[encoded data removed]",
      "text/plain": [
       "<Figure size 432x288 with 1 Axes>"
      ]
     },
     "metadata": {
      "needs_background": "light"
     },
     "output_type": "display_data"
    }
   ],
   "source": [
    "# Caso n4\n",
    "fig, ax = plt.subplots()\n",
    "fig = sns.distplot(array4, hist = True, kde = True,\n",
    "             bins = 9, color = 'b',\n",
    "             hist_kws={'edgecolor':'black'},\n",
    "             kde_kws={'linewidth': 4})\n",
    "ax.set_xlabel('Z')\n",
    "ax.set_ylabel('Frequency')\n",
    "ax.set_title('Sample size = n4')\n",
    "plt.axvline(np.mean(array4), color = 'k', linestyle = 'dashed', linewidth = 1)\n",
    "min_ylim, max_ylim = plt.ylim()\n",
    "plt.text(np.mean(array4)*1.1, max_ylim*0.9, 'Mean: {:.2f}'.format(np.mean(array4)))\n",
    "plt.show()"
   ]
  },
  {
   "cell_type": "markdown",
   "metadata": {},
   "source": [
    "## 5. Pruebas de Hipótesis paras Medias"
   ]
  },
  {
   "cell_type": "markdown",
   "metadata": {},
   "source": [
    "Sea $\\{ X_1, X_2, \\ldots, X_n \\}$ una muestra aleatoria de tamaño $n$ de una población con función de densidad de probabilidad normal estándar ($N(0, 1)$), donde $\\sigma$ es conocida. Sea:\n",
    "\\begin{equation*}\n",
    "    Z = \\frac{\\overline{X} - \\mu_0}{\\frac{\\sigma}{\\sqrt{n}}}\n",
    "\\end{equation*}\n",
    "\n",
    "En este caso cabe aclarar que todas las pruebas estan basadas en muestras aleatorias tomadas de poblaciones con distribuciones normales o, en su caso, son muestras suficientemente grandes ($n > 30$) para utilizar la aproximación normal que nos da el uso del Teorema del Límite Central. Partamos suponiendo que queremos probar alguna de las siguientes hipótesis:\n",
    "\\begin{eqnarray}\n",
    "    H_0 & : & \\mu = \\mu_0 \\nonumber \\\\\n",
    "    H_a & : & \n",
    "        \\begin{cases}\n",
    "            \\mu \\neq \\mu_0 \\\\\n",
    "            \\text{ o } \\\\\n",
    "            \\mu > \\mu_0 \\\\\n",
    "            \\text{ o } \\\\\n",
    "            \\mu < \\mu_0\n",
    "        \\end{cases}\n",
    "    \\label{H0_Medias}\n",
    "\\end{eqnarray}\n",
    "\n",
    "\n",
    "Dada la hipótesis nula proponemos las siguientes regiones críticas o de su rechazo respectivas a las hipótesis alternativas en la ecuación anterior:\n",
    "\\begin{equation*}\n",
    "    \\begin{cases}\n",
    "        | Z | \\geq z_{\\alpha/2} \\\\\n",
    "        \\text{ o } \\\\\n",
    "        Z \\geq z_\\alpha \\\\\n",
    "        \\text{ o } \\\\\n",
    "        Z \\leq - z_\\alpha\n",
    "    \\end{cases}\n",
    "\\end{equation*}\n"
   ]
  },
  {
   "cell_type": "code",
   "execution_count": null,
   "metadata": {},
   "outputs": [],
   "source": [
    "# Establescamos los parámetros de la normal:\n",
    "Mu = 8.8 \n",
    "Sigma = 10\n",
    "\n",
    "# Muestras de una Normal (Mu, Sigma)\n",
    "np.random.normal(Mu, Sigma, 5)"
   ]
  },
  {
   "cell_type": "code",
   "execution_count": null,
   "metadata": {},
   "outputs": [],
   "source": [
    "# Muestra para aplicar Hipótesis:\n",
    "\n",
    "# Tamaño:\n",
    "n = 15\n",
    "\n",
    "#\n",
    "Sample = np.random.normal(Mu, Sigma, n)\n",
    "Sample"
   ]
  },
  {
   "cell_type": "code",
   "execution_count": null,
   "metadata": {},
   "outputs": [],
   "source": [
    "Sample.mean()"
   ]
  },
  {
   "cell_type": "markdown",
   "metadata": {},
   "source": [
    "Supongamos que queremos probar que la hipótesis de que la muestra tiene una media igual a la media de donde se extrajo la muestra, contra la alternativa de que la media es menor:\n",
    "$$H_0 : \\mu = 8.8$$\n",
    "$$H_1 : \\mu < 8.8$$"
   ]
  },
  {
   "cell_type": "code",
   "execution_count": null,
   "metadata": {},
   "outputs": [],
   "source": [
    "# Transformación Z:\n",
    "\n",
    "Z = (Sample.mean() - Mu)/(Sigma/np.sqrt(n))\n",
    "Z"
   ]
  },
  {
   "cell_type": "code",
   "execution_count": null,
   "metadata": {},
   "outputs": [],
   "source": [
    "# Utilizamos la función de probabilidad acumulada:\n",
    "\n",
    "norm.cdf(0), norm.cdf(1.96), norm.cdf(- 1.96)"
   ]
  },
  {
   "cell_type": "code",
   "execution_count": null,
   "metadata": {},
   "outputs": [],
   "source": [
    "1 - norm.cdf(1.96)"
   ]
  },
  {
   "cell_type": "code",
   "execution_count": null,
   "metadata": {},
   "outputs": [],
   "source": [
    "# ¿Aceptamos o rechazamos la Hipótesis Nula?\n",
    "\n",
    "P_Value = 1 - norm.cdf(abs(Z))\n",
    "P_Value"
   ]
  },
  {
   "cell_type": "markdown",
   "metadata": {},
   "source": [
    "¿Qué pasa cuando desconocemos la varianza? En esos casos, al igual que en los intervalos de confianza, utilizaremos una estadística:\n",
    "\\begin{equation*}\n",
    "    T = \\frac{\\overline{X} - \\mu_0}{\\frac{\\hat{\\sigma}}{\\sqrt{n}}} \\sim t_{[n - 1]}\n",
    "\\end{equation*}\n",
    "\n",
    "En estos casos, de forma similar queremos probar las hipótesis de la ecuación mostradas anteriormente, para la cual proponemos las siguientes regiones críticas o de su rechazo, respectivamente,  con las hipótesis alternativas:\n",
    "\\begin{equation*}\n",
    "    \\begin{cases}\n",
    "        | T | \\geq t_{[\\alpha/2, n -1]} \\\\\n",
    "        \\text{ o } \\\\\n",
    "        T \\geq t_{[\\alpha, n -1]} \\\\\n",
    "        \\text{ o } \\\\\n",
    "        T \\leq - t_{[\\alpha, n -1]}\n",
    "    \\end{cases}\n",
    "\\end{equation*}"
   ]
  },
  {
   "cell_type": "code",
   "execution_count": null,
   "metadata": {},
   "outputs": [],
   "source": [
    "# Tomaremos 1 muestra de nuestro Data Frame de mosquitos:\n",
    "Mu = df['mosq'].mean()\n",
    "\n",
    "Mu"
   ]
  },
  {
   "cell_type": "code",
   "execution_count": null,
   "metadata": {},
   "outputs": [],
   "source": [
    "# Muestra de la base\n",
    "N = 20\n",
    "\n",
    "Sample = df['mosq'].sample(n = N, replace = True)\n",
    "Sample"
   ]
  },
  {
   "cell_type": "code",
   "execution_count": null,
   "metadata": {},
   "outputs": [],
   "source": [
    "# Desviación estándar:\n",
    "Sigma = Sample.std()\n",
    "Sigma"
   ]
  },
  {
   "cell_type": "markdown",
   "metadata": {},
   "source": [
    "Supongamos que queremos probar que la hipótesis de que la muestra tiene una media igual a la media de donde se extrajo la muestra, contra la alternativa de que la media es menor:\n",
    "$$H_0 : \\mu = 7$$\n",
    "$$H_1 : \\mu > 7$$"
   ]
  },
  {
   "cell_type": "code",
   "execution_count": null,
   "metadata": {},
   "outputs": [],
   "source": [
    "# Transformación T:\n",
    "Media = Sample.mean()\n",
    "\n",
    "T = (Media - Mu)/(Sigma/np.sqrt(N))\n",
    "\n",
    "Media, T"
   ]
  },
  {
   "cell_type": "code",
   "execution_count": null,
   "metadata": {},
   "outputs": [],
   "source": [
    "1 - t.cdf(abs(T), N - 1)"
   ]
  },
  {
   "cell_type": "code",
   "execution_count": null,
   "metadata": {},
   "outputs": [],
   "source": []
  }
 ],
 "metadata": {
  "kernelspec": {
   "display_name": "Python 3",
   "language": "python",
   "name": "python3"
  },
  "language_info": {
   "codemirror_mode": {
    "name": "ipython",
    "version": 3
   },
   "file_extension": ".py",
   "mimetype": "text/x-python",
   "name": "python",
   "nbconvert_exporter": "python",
   "pygments_lexer": "ipython3",
   "version": "3.7.5"
  }
 },
 "nbformat": 4,
 "nbformat_minor": 2
}
